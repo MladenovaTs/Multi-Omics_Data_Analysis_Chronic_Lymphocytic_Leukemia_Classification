{
 "cells": [
  {
   "cell_type": "code",
   "execution_count": null,
   "id": "ec9cdf53-d908-431a-b0e7-98024b3b5c97",
   "metadata": {},
   "outputs": [],
   "source": [
    "import numpy as np\n",
    "import pandas as pd\n",
    "import requests\n",
    "import gzip\n",
    "import matplotlib.pyplot as plt\n",
    "import seaborn as sns\n",
    "import scipy.stats as stats\n",
    "import methylcheck\n",
    "from scipy.cluster.hierarchy import fcluster\n",
    "from pyensembl import EnsemblRelease\n",
    "from sklearn.preprocessing import StandardScaler, QuantileTransformer, MinMaxScaler, RobustScaler\n",
    "from sklearn import metrics \n",
    "from sklearn.metrics import accuracy_score\n",
    "from sklearn.decomposition import PCA\n",
    "from sklearn.manifold import TSNE\n",
    "from sklearn.feature_selection import SelectFromModel, VarianceThreshold, RFE, SelectKBest, chi2, f_classif\n",
    "from sklearn.cluster import KMeans\n",
    "from sklearn.model_selection import train_test_split, StratifiedKFold\n",
    "from sklearn.linear_model import Lasso, Ridge , LinearRegression\n",
    "from scipy.stats import pearsonr\n",
    "from statsmodels.stats.multitest import multipletests\n",
    "from statsmodels.stats.outliers_influence import variance_inflation_factor\n",
    "from sklearn.tree import DecisionTreeRegressor\n",
    "from sklearn.ensemble import RandomForestClassifier, RandomForestRegressor\n",
    "from xgboost import XGBRegressor, plot_importance\n",
    "import joblib"
   ]
  },
  {
   "cell_type": "markdown",
   "id": "4670a9a1-712a-4e55-b320-6075476abddc",
   "metadata": {},
   "source": [
    "# Exploratory Data Analysis"
   ]
  },
  {
   "cell_type": "code",
   "execution_count": null,
   "id": "66649e15-1284-49ad-a4ad-945c7b6cbe0e",
   "metadata": {},
   "outputs": [],
   "source": [
    "# Load data\n",
    "pd.set_option('display.max_columns', None)\n",
    "\n",
    "covariates = pd.read_csv('data/CLL_Covariates.txt', sep='\\t')\n",
    "drugs = pd.read_csv('data/CLL_Drugs.txt', sep='\\t')\n",
    "methylation = pd.read_csv('data/CLL_Methylation.txt', sep='\\t')\n",
    "mutations = pd.read_csv('data/CLL_Mutations.txt', sep='\\t')\n",
    "mrna = pd.read_csv('data/CLL_mRNA.txt', sep='\\t')"
   ]
  },
  {
   "cell_type": "code",
   "execution_count": null,
   "id": "51c85bb5-b125-4803-a4ce-dcac3790b7e9",
   "metadata": {},
   "outputs": [],
   "source": [
    "# Explore\n",
    "for df_name, df in [(\"covariates\", covariates), (\"drugs\", drugs), (\"methylation\", methylation), (\"mutations\", mutations), (\"mrna\", mrna)]:\n",
    "    print(f\"\\n\\nDataFrame: {df_name}\\n\")\n",
    "    df.info()"
   ]
  },
  {
   "cell_type": "markdown",
   "id": "d80a3987-db03-4b8d-8ea4-5c9b27dcbc38",
   "metadata": {},
   "source": [
    "## Visualizations"
   ]
  },
  {
   "cell_type": "markdown",
   "id": "7d4a0250-596e-44aa-bfba-a1dc90104336",
   "metadata": {},
   "source": [
    "### covariates"
   ]
  },
  {
   "cell_type": "code",
   "execution_count": null,
   "id": "945e3b65-b379-4e7b-8edc-de89e6f405b0",
   "metadata": {},
   "outputs": [],
   "source": [
    "# Gender distribution\n",
    "sns.set(style=\"whitegrid\")\n",
    "\n",
    "plt.figure(figsize=(12, 7))\n",
    "palette = sns.color_palette('Set2', n_colors=len(covariates['Gender'].unique()))\n",
    "\n",
    "ax = sns.countplot(data=covariates, x='Gender', palette=palette, edgecolor='black')\n",
    "ax.set_xticklabels(['Male', 'Female'], fontsize=12, rotation=45)\n",
    "\n",
    "plt.title('Distribution of Gender in the Cohort', fontsize=18)\n",
    "plt.xlabel('Gender', fontsize=14)\n",
    "plt.ylabel('Count', fontsize=14)\n",
    "\n",
    "for p in ax.patches:\n",
    "    plt.text(\n",
    "        p.get_x() + p.get_width() / 2,\n",
    "        p.get_height() + 2,\n",
    "        f'{int(p.get_height())}',\n",
    "        ha='center',\n",
    "        fontsize=12\n",
    "    )\n",
    "\n",
    "plt.xticks(fontsize=12, rotation=45)\n",
    "plt.yticks(fontsize=12)\n",
    "plt.grid(True, linestyle='--', alpha=0.7)\n",
    "plt.tight_layout()\n",
    "plt.show()"
   ]
  },
  {
   "cell_type": "markdown",
   "id": "c150a739-eb02-447e-9be0-814a74a6a0f5",
   "metadata": {},
   "source": [
    "### drugs"
   ]
  },
  {
   "cell_type": "code",
   "execution_count": null,
   "id": "3e42f666-264d-4a1f-9f2c-3c3d03537222",
   "metadata": {},
   "outputs": [],
   "source": [
    "# Heatmap with clustering for drugs and samples\n",
    "g = sns.clustermap(\n",
    "    drugs.fillna(0), \n",
    "    cmap=\"YlGnBu\", \n",
    "    annot=False,  \n",
    "    linewidths=0.5, \n",
    "    linecolor='grey', \n",
    "    cbar_kws={'label': 'Response Level'}, \n",
    "    method='average', \n",
    "    metric='euclidean', \n",
    "    figsize=(20, 15)\n",
    ")\n",
    "\n",
    "g.ax_heatmap.set_title('Drug Responses Across Samples', fontsize=20, fontweight='bold')\n",
    "g.ax_heatmap.set_xlabel('Samples', fontsize=16)\n",
    "g.ax_heatmap.set_ylabel('Drugs', fontsize=16)\n",
    "\n",
    "row_threshold = 5  \n",
    "g.ax_row_dendrogram.axvline(x=row_threshold, color='r', linestyle='--', linewidth=1)\n",
    "\n",
    "col_threshold = 5  \n",
    "g.ax_col_dendrogram.axhline(y=col_threshold, color='r', linestyle='--', linewidth=1)\n",
    "\n",
    "colorbar = g.cax\n",
    "colorbar.yaxis.set_ticks_position('left')\n",
    "colorbar.yaxis.set_label_position('left')\n",
    "\n",
    "plt.setp(g.ax_heatmap.get_xticklabels(), rotation=90)\n",
    "plt.tight_layout()\n",
    "plt.show()"
   ]
  },
  {
   "cell_type": "markdown",
   "id": "11660aee-c941-47fd-bccb-70276adb3f76",
   "metadata": {},
   "source": [
    "### methylation"
   ]
  },
  {
   "cell_type": "code",
   "execution_count": null,
   "id": "f02fefb1-834d-46fd-a13c-647d3f76ae69",
   "metadata": {},
   "outputs": [],
   "source": [
    "# Methylation distribution\n",
    "methylation_flattened = methylation.values.flatten()[~np.isnan(methylation.values.flatten())]\n",
    "\n",
    "plt.figure(figsize=(14, 8))\n",
    "sns.histplot(methylation_flattened, kde=True, bins=50, color='skyblue') \n",
    "plt.title('Methylation Level Distribution Across Samples', fontsize=20, fontweight='bold')\n",
    "plt.xlabel('Methylation Level', fontsize=16, fontweight='bold')\n",
    "plt.ylabel('Frequency', fontsize=16, fontweight='bold')\n",
    "plt.grid(True, linestyle='--', alpha=0.7)  \n",
    "plt.xticks(fontsize=14)\n",
    "plt.yticks(fontsize=14)\n",
    "plt.show()"
   ]
  },
  {
   "cell_type": "markdown",
   "id": "245930b9-ad58-43c1-bdc8-2d4cc714b2c1",
   "metadata": {},
   "source": [
    "### mutations"
   ]
  },
  {
   "cell_type": "code",
   "execution_count": null,
   "id": "5ae372b5-612d-4bfb-8e56-20029321c803",
   "metadata": {},
   "outputs": [],
   "source": [
    "# Convert mutation values to integers\n",
    "mutations = mutations.astype('float').astype('Int64')"
   ]
  },
  {
   "cell_type": "code",
   "execution_count": null,
   "id": "4e617840-8349-49e9-aca1-92716555fd70",
   "metadata": {},
   "outputs": [],
   "source": [
    "# Heatmap of mutations\n",
    "mutations_imputed = mutations.fillna(0).astype(int)\n",
    "\n",
    "clustermap = sns.clustermap(\n",
    "    mutations_imputed,\n",
    "    cmap=\"coolwarm\",  \n",
    "    linewidths=0.5, \n",
    "    linecolor='grey', \n",
    "    cbar_kws={'label': 'Mutation Presence'}, \n",
    "    method='average', \n",
    "    metric='euclidean',  \n",
    "    figsize=(20, 15),\n",
    "    xticklabels=True,\n",
    "    yticklabels=True\n",
    ")\n",
    "\n",
    "clustermap.ax_heatmap.set_title('Mutation Presence Across Samples', fontsize=20, fontweight='bold')\n",
    "clustermap.ax_heatmap.set_xlabel('Patients', fontsize=16)\n",
    "clustermap.ax_heatmap.set_ylabel('Mutations', fontsize=16)\n",
    "\n",
    "plt.setp(clustermap.ax_heatmap.get_xticklabels(), rotation=90)\n",
    "\n",
    "row_threshold = 5  \n",
    "clustermap.ax_row_dendrogram.axvline(x=row_threshold, color='r', linestyle='--', linewidth=1)\n",
    "\n",
    "clustermap.cax.yaxis.set_label_position('left')\n",
    "clustermap.cax.yaxis.set_ticks_position('left')\n",
    "\n",
    "plt.tight_layout()\n",
    "plt.show()"
   ]
  },
  {
   "cell_type": "markdown",
   "id": "5acced75-efc1-4298-90e2-1bfcbc98bdf3",
   "metadata": {},
   "source": [
    "# Pre-processing"
   ]
  },
  {
   "cell_type": "markdown",
   "id": "6bb73aca-8c81-45df-84db-ff122bd8689c",
   "metadata": {},
   "source": [
    "## Map Eensembl_ID / Gene_names"
   ]
  },
  {
   "cell_type": "code",
   "execution_count": null,
   "id": "13a16d34-5aa3-4ce3-a966-e3e59a0267e9",
   "metadata": {},
   "outputs": [],
   "source": [
    "# Initialize EnsemblRelease\n",
    "ensrel = EnsemblRelease(109)"
   ]
  },
  {
   "cell_type": "code",
   "execution_count": null,
   "id": "3eea29ef-839e-4a50-ac5d-1eeae6a0ce60",
   "metadata": {},
   "outputs": [],
   "source": [
    "# Create column with GeneIDs\n",
    "mrna['GeneID'] = mrna.index"
   ]
  },
  {
   "cell_type": "code",
   "execution_count": null,
   "id": "0ccf7be1-5b21-4d91-88b8-b03c3ce19e0b",
   "metadata": {},
   "outputs": [],
   "source": [
    "# Function to map Ensembl IDs to gene names\n",
    "def map_ensembl_to_gene_name(ensembl_id):\n",
    "    try:\n",
    "        gene = ensrel.gene_by_id(ensembl_id)\n",
    "        return gene.gene_name\n",
    "    except ValueError:\n",
    "        return None"
   ]
  },
  {
   "cell_type": "code",
   "execution_count": null,
   "id": "d4ed200d-b52e-4d96-ad15-cdf2e3c0ddf5",
   "metadata": {},
   "outputs": [],
   "source": [
    "# Map GeneIDs to GeneNames\n",
    "mrna['GeneName'] = mrna['GeneID'].apply(map_ensembl_to_gene_name)\n",
    "mrna"
   ]
  },
  {
   "cell_type": "code",
   "execution_count": null,
   "id": "5899a4d8-fea4-4916-ab64-164de0dc1438",
   "metadata": {},
   "outputs": [],
   "source": [
    "# Filter empty rows\n",
    "filtered_mRNA = mrna[mrna['GeneName'].isna() | (mrna['GeneName'] == '')]\n",
    "\n",
    "print(\"\\nRows with empty or None in 'GeneName' column:\")\n",
    "filtered_mRNA"
   ]
  },
  {
   "cell_type": "code",
   "execution_count": null,
   "id": "28e4d1ae-3f4c-42e8-9a16-be0a7297d9f8",
   "metadata": {},
   "outputs": [],
   "source": [
    "# Check the missing genes in Ensembl\n",
    "missing_gene_ids = mrna[mrna['GeneName'].isna() | (mrna['GeneName'] == '')]['GeneID'].unique()\n",
    "\n",
    "def check_gene_names(gene_ids):\n",
    "    url = 'https://rest.ensembl.org/lookup/id/{}?content-type=application/json'\n",
    "    missing_names = {}\n",
    "\n",
    "    for gene_id in gene_ids:\n",
    "        response = requests.get(url.format(gene_id))\n",
    "        if response.status_code == 200:\n",
    "            data = response.json()\n",
    "            if 'display_name' in data:\n",
    "                missing_names[gene_id] = data['display_name']\n",
    "            else:\n",
    "                missing_names[gene_id] = 'No GeneName available'\n",
    "        else:\n",
    "            missing_names[gene_id] = 'Request failed'\n",
    "\n",
    "    return missing_names\n",
    "\n",
    "missing_gene_names = check_gene_names(missing_gene_ids)\n",
    "\n",
    "for gene_id, name in missing_gene_names.items():\n",
    "    print(f\"GeneID: {gene_id}, GeneName: {name}\")"
   ]
  },
  {
   "cell_type": "code",
   "execution_count": null,
   "id": "ac7423a8-0a43-40b3-8511-f64e69c917ca",
   "metadata": {},
   "outputs": [],
   "source": [
    "# Fill empty strings with GeneID\n",
    "mrna['GeneName'] = mrna['GeneName'].replace('', pd.NA).fillna(mrna['GeneID'])"
   ]
  },
  {
   "cell_type": "code",
   "execution_count": null,
   "id": "12e93acc-3c82-4c56-97f3-ab6da58e247f",
   "metadata": {},
   "outputs": [],
   "source": [
    "# Check again for missing gene names\n",
    "filtered_mRNA = mrna[mrna['GeneName'].isna() | (mrna['GeneName'] == '')]\n",
    "\n",
    "print(\"\\nRows with empty or None in 'GeneName' column:\")\n",
    "filtered_mRNA"
   ]
  },
  {
   "cell_type": "code",
   "execution_count": null,
   "id": "c4662eaf-068b-40e9-aeca-d27116e34e8e",
   "metadata": {},
   "outputs": [],
   "source": [
    "# Clean the expression data\n",
    "expr = mrna.set_index('GeneName').drop(columns=['GeneID']).rename_axis(None)\n",
    "expr"
   ]
  },
  {
   "cell_type": "markdown",
   "id": "1a97d92c-db81-4856-bfae-d96b9beb0426",
   "metadata": {},
   "source": [
    "## Duplicates"
   ]
  },
  {
   "cell_type": "code",
   "execution_count": null,
   "id": "1e8ee1be-c9fa-4017-a1db-445a467af412",
   "metadata": {},
   "outputs": [],
   "source": [
    "# Check if indices are unique\n",
    "if covariates.index.is_unique:\n",
    "    print(\"Indices in 'covariates' are unique.\")\n",
    "else:\n",
    "    print(\"Indices in 'covariates' are not unique. Duplicates:\")\n",
    "    print(covariates.index[covariates.index.duplicated()].tolist())"
   ]
  },
  {
   "cell_type": "code",
   "execution_count": null,
   "id": "551ebf5f-c855-43a1-8047-c008ad316a53",
   "metadata": {},
   "outputs": [],
   "source": [
    "# Function to check for duplicates\n",
    "def check_duplicates(df, name):\n",
    "    duplicate_rows = df[df.duplicated()]\n",
    "    if not duplicate_rows.empty:\n",
    "        print(f\"Dataset '{name}' has {duplicate_rows.shape[0]} duplicate rows at indices:\")\n",
    "        print(duplicate_rows.index.tolist())\n",
    "    else:\n",
    "        print(f\"Dataset '{name}' has no duplicate rows.\")"
   ]
  },
  {
   "cell_type": "code",
   "execution_count": null,
   "id": "9727f99c-9ed4-4455-a9a6-7acf684c3a78",
   "metadata": {},
   "outputs": [],
   "source": [
    "# Check for duplicates\n",
    "check_duplicates(drugs, 'drugs')\n",
    "check_duplicates(methylation, 'methylation')\n",
    "check_duplicates(mutations, 'mutations')\n",
    "check_duplicates(expr, 'expr')"
   ]
  },
  {
   "cell_type": "markdown",
   "id": "2f5ac2b9-6d7c-4b44-8a2d-bfe7fd2c4f61",
   "metadata": {},
   "source": [
    "## Missing data"
   ]
  },
  {
   "cell_type": "code",
   "execution_count": null,
   "id": "540f3c8e-103a-413d-b6c3-e71261f075b2",
   "metadata": {},
   "outputs": [],
   "source": [
    "# Function to check missing data\n",
    "def check_missing_data(datasets):\n",
    "    for name, dataset in datasets.items():\n",
    "        missing_count = dataset.isnull().sum().sum()\n",
    "        print(f\"Dataset '{name}' has {missing_count} missing values.\")"
   ]
  },
  {
   "cell_type": "code",
   "execution_count": null,
   "id": "64424ea3-a453-48d0-b37d-a36cc3115fbb",
   "metadata": {},
   "outputs": [],
   "source": [
    "# Function to count missing data\n",
    "def count_missing_data(data):\n",
    "    missing_val = data.isnull().sum()\n",
    "    cols_with_missing_val = missing_val[missing_val > 0]\n",
    "\n",
    "    data_missing = pd.DataFrame([cols_with_missing_val.index, cols_with_missing_val.values])\n",
    "    data_missing.index = ['Sample', 'Missing Values Count']\n",
    "\n",
    "    print(f\"Missing columns total: {len(cols_with_missing_val)}\")\n",
    "    return data_missing"
   ]
  },
  {
   "cell_type": "code",
   "execution_count": null,
   "id": "8f64dcb2-2808-4409-b2a3-85ab85b61647",
   "metadata": {},
   "outputs": [],
   "source": [
    "# Function to get row statistics\n",
    "def calc_row_stats(data):\n",
    "    # Calculate statistics per row\n",
    "    row_stats = data.agg(['min', 'max', 'mean'], axis=1, skipna=True).rename(columns={'min': 'Min', 'max': 'Max', 'mean': 'Mean'})\n",
    "\n",
    "    # Print row statistics\n",
    "    print(\"Row Statistics:\")\n",
    "    # print(row_stats)\n",
    "\n",
    "    return row_stats"
   ]
  },
  {
   "cell_type": "code",
   "execution_count": null,
   "id": "59517f21-f748-46ef-bd5d-94006a202da2",
   "metadata": {},
   "outputs": [],
   "source": [
    "# Function to check zeros, inf, and negative values\n",
    "def check_special_values(data):    \n",
    "    zeros_count_total = (data == 0).sum().sum()\n",
    "    infinite_values = data.isin([float('inf'), float('-inf')]).sum().sum()\n",
    "    negative_values = (data < 0).sum().sum()\n",
    "\n",
    "    print(f\"Number of zeros: {zeros_count_total}\")\n",
    "    print(f\"Number of infinite values: {infinite_values}\")\n",
    "    print(f\"Number of negative values: {negative_values}\")\n",
    "\n",
    "    return {\n",
    "        'zeros_count_total': zeros_count_total,\n",
    "        'infinite_values': infinite_values,\n",
    "        'negative_values': negative_values\n",
    "    }"
   ]
  },
  {
   "cell_type": "code",
   "execution_count": null,
   "id": "dfa0b02f-3edf-4258-be1f-cc8d6c09157a",
   "metadata": {},
   "outputs": [],
   "source": [
    "datasets = {\n",
    "    'covariates': covariates,\n",
    "    'drugs': drugs,\n",
    "    'methylation': methylation,\n",
    "    'mutations': mutations,\n",
    "    'expr': expr\n",
    "}\n",
    "\n",
    "check_missing_data(datasets)"
   ]
  },
  {
   "cell_type": "markdown",
   "id": "b85da8b3-413d-4096-9e75-179594b62ea0",
   "metadata": {},
   "source": [
    "### drugs"
   ]
  },
  {
   "cell_type": "code",
   "execution_count": null,
   "id": "4909e1c0-66e0-4541-8991-f0c9caa38007",
   "metadata": {},
   "outputs": [],
   "source": [
    "drugs"
   ]
  },
  {
   "cell_type": "code",
   "execution_count": null,
   "id": "c12841c7-aa52-4dd9-88b2-28ef6f2714bb",
   "metadata": {},
   "outputs": [],
   "source": [
    "# Count missing data\n",
    "data_drugs = count_missing_data(drugs)\n",
    "data_drugs"
   ]
  },
  {
   "cell_type": "code",
   "execution_count": null,
   "id": "d5694de1-7e62-49ac-a243-d91b7a2a81a4",
   "metadata": {},
   "outputs": [],
   "source": [
    "# Row statistics\n",
    "drugs_row_stats = calc_row_stats(drugs)\n",
    "drugs_row_stats"
   ]
  },
  {
   "cell_type": "code",
   "execution_count": null,
   "id": "1a68ed84-1898-4995-86c5-1755b15ca848",
   "metadata": {},
   "outputs": [],
   "source": [
    "# Check for 0, inf and negative values\n",
    "special_values = check_special_values(drugs)"
   ]
  },
  {
   "cell_type": "code",
   "execution_count": null,
   "id": "16996c77-29b0-4771-bca5-533b517c0589",
   "metadata": {},
   "outputs": [],
   "source": [
    "# Histogram of drug distribution\n",
    "all_values = drugs.values.flatten()[np.isfinite(drugs.values.flatten())]\n",
    "\n",
    "plt.figure(figsize=(12, 8))\n",
    "n, bins, patches = plt.hist(all_values, bins=100, color='skyblue', edgecolor='black')\n",
    "\n",
    "plt.title('Drug Response Distribution Across Samples', fontsize=16)\n",
    "plt.xlabel('Drug Response', fontsize=14)\n",
    "plt.ylabel('Frequency', fontsize=14)\n",
    "plt.grid(axis='y', alpha=0.75)\n",
    "\n",
    "mean_value = np.mean(all_values)\n",
    "median_value = np.median(all_values)\n",
    "plt.axvline(mean_value, color='red', linestyle='dashed', linewidth=2, label=f'Mean: {mean_value:.2f}')\n",
    "plt.axvline(median_value, color='green', linestyle='dashed', linewidth=2, label=f'Median: {median_value:.2f}')\n",
    "plt.legend(fontsize=12)\n",
    "plt.text(mean_value, plt.ylim()[1]*0.9, f'Mean: {mean_value:.2f}', color='red', fontsize=12, ha='left')\n",
    "plt.text(median_value, plt.ylim()[1]*0.8, f'Median: {median_value:.2f}', color='green', fontsize=12, ha='right')\n",
    "plt.show()"
   ]
  },
  {
   "cell_type": "code",
   "execution_count": null,
   "id": "74fcf87f-032d-43c6-bc76-0be02a4975bc",
   "metadata": {},
   "outputs": [],
   "source": [
    "# Fill NaN values with the median \n",
    "drugs_imputed = drugs.apply(lambda row: row.fillna(row.median()), axis=1)"
   ]
  },
  {
   "cell_type": "markdown",
   "id": "cda2dcc9-1ed7-4000-924c-37ea787bb2bc",
   "metadata": {},
   "source": [
    "### methylation"
   ]
  },
  {
   "cell_type": "code",
   "execution_count": null,
   "id": "11b19e30-487a-4ccc-9244-85640db1db41",
   "metadata": {},
   "outputs": [],
   "source": [
    "methylation"
   ]
  },
  {
   "cell_type": "code",
   "execution_count": null,
   "id": "3fcc6e8b-7ec6-48ae-a0ac-dd83ae9a65ea",
   "metadata": {},
   "outputs": [],
   "source": [
    "# Count missing data \n",
    "data_meth = count_missing_data(methylation)\n",
    "data_meth"
   ]
  },
  {
   "cell_type": "code",
   "execution_count": null,
   "id": "a992b1a2-361c-475d-9194-938a3c4b59c2",
   "metadata": {},
   "outputs": [],
   "source": [
    "# Row statistics\n",
    "meth_row_stats = calc_row_stats(methylation)\n",
    "meth_row_stats"
   ]
  },
  {
   "cell_type": "code",
   "execution_count": null,
   "id": "ec897bc2-1248-4fe6-9807-99f6e6634d66",
   "metadata": {},
   "outputs": [],
   "source": [
    "# Check for 0, inf and negative values\n",
    "special_values = check_special_values(methylation)"
   ]
  },
  {
   "cell_type": "code",
   "execution_count": null,
   "id": "c051ed13-6175-4132-a4a2-d8c42a036249",
   "metadata": {},
   "outputs": [],
   "source": [
    "# Histogram of methylation distribution\n",
    "all_values = methylation.values.flatten()[np.isfinite(methylation.values.flatten())]\n",
    "\n",
    "plt.figure(figsize=(12, 8))\n",
    "n, bins, patches = plt.hist(all_values, bins=100, color='skyblue', edgecolor='black')\n",
    "\n",
    "plt.title('Methylation Distribution Across Samples', fontsize=16)\n",
    "plt.xlabel('Methylation', fontsize=14)\n",
    "plt.ylabel('Frequency', fontsize=14)\n",
    "plt.grid(axis='y', alpha=0.75)\n",
    "\n",
    "mean_value = np.mean(all_values)\n",
    "median_value = np.median(all_values)\n",
    "plt.axvline(mean_value, color='red', linestyle='dashed', linewidth=2, label=f'Mean: {mean_value:.2f}')\n",
    "plt.axvline(median_value, color='green', linestyle='dashed', linewidth=2, label=f'Median: {median_value:.2f}')\n",
    "plt.legend(fontsize=12)\n",
    "plt.text(mean_value, plt.ylim()[1]*0.9, f'Mean: {mean_value:.2f}', color='red', fontsize=12, ha='left')\n",
    "plt.text(median_value, plt.ylim()[1]*0.8, f'Median: {median_value:.2f}', color='green', fontsize=12, ha='right')\n",
    "plt.show()"
   ]
  },
  {
   "cell_type": "code",
   "execution_count": null,
   "id": "bff08545-54dc-4762-bcc9-d70569f8d05b",
   "metadata": {},
   "outputs": [],
   "source": [
    "# Fill NaN values with the median\n",
    "methylation_imputed = methylation.apply(lambda row: row.fillna(row.median()), axis=1)"
   ]
  },
  {
   "cell_type": "markdown",
   "id": "6ef09edd-44d4-4576-b53f-e022ddb7be25",
   "metadata": {},
   "source": [
    "### mutations"
   ]
  },
  {
   "cell_type": "code",
   "execution_count": null,
   "id": "bc60f23b-e667-471d-b4d5-30dcfa90a893",
   "metadata": {},
   "outputs": [],
   "source": [
    "mutations"
   ]
  },
  {
   "cell_type": "code",
   "execution_count": null,
   "id": "e1fe47d5-dcb6-4eb5-839d-26509dc6c12e",
   "metadata": {},
   "outputs": [],
   "source": [
    "# Count missing data \n",
    "data_mut = count_missing_data(mutations)\n",
    "data_mut"
   ]
  },
  {
   "cell_type": "code",
   "execution_count": null,
   "id": "ca9fa893-da00-4e1c-84b2-002d216aff1d",
   "metadata": {},
   "outputs": [],
   "source": [
    "# Check for 0, inf and negative values\n",
    "special_values = check_special_values(mutations)"
   ]
  },
  {
   "cell_type": "code",
   "execution_count": null,
   "id": "af455443-788d-4ce8-91e8-53c53696df01",
   "metadata": {},
   "outputs": [],
   "source": [
    "# Mode imputation \n",
    "mutations_imputed = mutations.apply(lambda row: row.fillna(row.mode().iloc[0] if not row.mode().empty else np.nan), axis=1)"
   ]
  },
  {
   "cell_type": "code",
   "execution_count": null,
   "id": "0308745d-a162-4610-8c9d-528af27513d5",
   "metadata": {},
   "outputs": [],
   "source": [
    "# Check before and after imputation\n",
    "counts_before = {\"0\": (mutations == 0).sum().sum(), \"1\": (mutations == 1).sum().sum(), \"NaN\": mutations.isnull().sum().sum()}\n",
    "counts_after = {\"0\": (mutations_imputed == 0).sum().sum(), \"1\": (mutations_imputed == 1).sum().sum(), \"NaN\": mutations_imputed.isnull().sum().sum()}\n",
    "\n",
    "counts_df = pd.DataFrame([counts_before, counts_after], index=[\"Before Imputation\", \"After Imputation\"])\n",
    "counts_df"
   ]
  },
  {
   "cell_type": "code",
   "execution_count": null,
   "id": "c42d2e0e-9335-48b2-8114-259568f2bfdb",
   "metadata": {},
   "outputs": [],
   "source": [
    "# Identify the imputed data with ones\n",
    "new_ones = (mutations.isnull()) & (mutations_imputed == 1)\n",
    "rows_with_new_ones = mutations_imputed[new_ones.any(axis=1)]\n",
    "rows_with_new_ones"
   ]
  },
  {
   "cell_type": "markdown",
   "id": "15fac4f3-4adc-4d1d-b3ab-2e820a23be6e",
   "metadata": {},
   "source": [
    "### mrna"
   ]
  },
  {
   "cell_type": "code",
   "execution_count": null,
   "id": "d477dfa8-308c-4e72-b6a2-f9bd0ce42df7",
   "metadata": {},
   "outputs": [],
   "source": [
    "expr"
   ]
  },
  {
   "cell_type": "code",
   "execution_count": null,
   "id": "f171712e-708b-4e49-8fde-539ed56e1977",
   "metadata": {},
   "outputs": [],
   "source": [
    "# Count missing data \n",
    "data_expr = count_missing_data(expr)\n",
    "data_expr"
   ]
  },
  {
   "cell_type": "code",
   "execution_count": null,
   "id": "806a6205-c2f5-4226-ac4a-ffe7cb1c24f8",
   "metadata": {},
   "outputs": [],
   "source": [
    "# Check for common samples between data\n",
    "common_samples = set(data_drugs.index).intersection(data_meth.index, data_expr.index) - {'Sample', 'Missing Values Count'}\n",
    "\n",
    "# Print the result\n",
    "print(f\"Common Samples: {len(common_samples)}\" if common_samples else \"No common samples found after filtering.\")\n",
    "print(common_samples)"
   ]
  },
  {
   "cell_type": "code",
   "execution_count": null,
   "id": "bd698e71-b81b-46be-8014-6c64f6d25f64",
   "metadata": {},
   "outputs": [],
   "source": [
    "# Row statistics\n",
    "expr_row_stats = calc_row_stats(expr)\n",
    "expr_row_stats"
   ]
  },
  {
   "cell_type": "code",
   "execution_count": null,
   "id": "0c9a99cf-ae80-4a38-883e-85dbe81e6e8b",
   "metadata": {},
   "outputs": [],
   "source": [
    "# Check for 0, inf and negative values\n",
    "special_values = check_special_values(expr)"
   ]
  },
  {
   "cell_type": "markdown",
   "id": "3838981a-c134-4fee-b83f-8974ea289178",
   "metadata": {},
   "source": [
    "#### Filtering"
   ]
  },
  {
   "cell_type": "code",
   "execution_count": null,
   "id": "35de95fc-4f19-43b3-9e75-b8c1be1d5c15",
   "metadata": {},
   "outputs": [],
   "source": [
    "# Remove low-expression genes\n",
    "threshold = 0.5 \n",
    "\n",
    "filtered_expr = expr.loc[expr.mean(axis=1) >= threshold]\n",
    "filtered_expr"
   ]
  },
  {
   "cell_type": "code",
   "execution_count": null,
   "id": "735c968e-723c-4495-83f3-013baad332ff",
   "metadata": {},
   "outputs": [],
   "source": [
    "# Quantiles of variance per gene\n",
    "quantiles = filtered_expr.var(axis=1).quantile([0.25, 0.5, 0.75, 0.9])\n",
    "\n",
    "print(\"25th percentile:\", quantiles[0.25])\n",
    "print(\"50th percentile (median):\", quantiles[0.5])\n",
    "print(\"75th percentile:\", quantiles[0.75])\n",
    "print(\"90th percentile:\", quantiles[0.9])"
   ]
  },
  {
   "cell_type": "code",
   "execution_count": null,
   "id": "8f067b6b-a254-4b3a-8a6b-04e6d85ea87c",
   "metadata": {},
   "outputs": [],
   "source": [
    "# Remove genes with low variance\n",
    "variance_threshold = 0.5\n",
    "\n",
    "filtered_expr_2 = filtered_expr.loc[filtered_expr.var(axis=1) >= variance_threshold]\n",
    "filtered_expr_2"
   ]
  },
  {
   "cell_type": "code",
   "execution_count": null,
   "id": "53be95fe-c4c1-4860-85b3-1cf91988dc7b",
   "metadata": {},
   "outputs": [],
   "source": [
    "# Quantiles of variance per sample\n",
    "quantiles = filtered_expr_2.var(axis=0).quantile([0.25, 0.5, 0.75, 0.9])\n",
    "\n",
    "print(\"25th percentile:\", quantiles[0.25])\n",
    "print(\"50th percentile (median):\", quantiles[0.5])\n",
    "print(\"75th percentile:\", quantiles[0.75])\n",
    "print(\"90th percentile:\", quantiles[0.9])"
   ]
  },
  {
   "cell_type": "code",
   "execution_count": null,
   "id": "292b79c1-87a6-420a-8534-4accbd3f5cc8",
   "metadata": {},
   "outputs": [],
   "source": [
    "# Histogram of expression distribution\n",
    "all_values = filtered_expr_2.values.flatten()[np.isfinite(filtered_expr_2.values.flatten())]\n",
    "\n",
    "plt.figure(figsize=(12, 8))\n",
    "n, bins, patches = plt.hist(all_values, bins=100, color='skyblue', edgecolor='black')\n",
    "\n",
    "plt.title('Distribution of Expression Across Samples', fontsize=16)\n",
    "plt.xlabel('Expression Level', fontsize=14)\n",
    "plt.ylabel('Frequency', fontsize=14)\n",
    "plt.grid(axis='y', alpha=0.75)\n",
    "\n",
    "mean_value = np.mean(all_values)\n",
    "median_value = np.median(all_values)\n",
    "plt.axvline(mean_value, color='red', linestyle='dashed', linewidth=2, label=f'Mean: {mean_value:.2f}')\n",
    "plt.axvline(median_value, color='green', linestyle='dashed', linewidth=2, label=f'Median: {median_value:.2f}')\n",
    "plt.legend(fontsize=12)\n",
    "plt.text(mean_value, plt.ylim()[1]*0.9, f'Mean: {mean_value:.2f}', color='red', fontsize=12, ha='left')\n",
    "plt.text(median_value, plt.ylim()[1]*0.8, f'Median: {median_value:.2f}', color='green', fontsize=12, ha='right')\n",
    "plt.show()"
   ]
  },
  {
   "cell_type": "code",
   "execution_count": null,
   "id": "cee0d4a5-6232-456d-af5c-b25703550e71",
   "metadata": {},
   "outputs": [],
   "source": [
    "# Fill NaN values with the median \n",
    "expr_imputed = filtered_expr_2.apply(lambda row: row.fillna(row.median()), axis=1)"
   ]
  },
  {
   "cell_type": "code",
   "execution_count": null,
   "id": "7d0ebd3d-f4c1-456a-87a3-67f077d191e7",
   "metadata": {},
   "outputs": [],
   "source": [
    "# Check for missing data\n",
    "datasets = {\n",
    "    'covariates': covariates,\n",
    "    'drugs': drugs_imputed,\n",
    "    'methylation': methylation_imputed,\n",
    "    'mutations': mutations_imputed,\n",
    "    'expr': expr_imputed\n",
    "}\n",
    "\n",
    "check_missing_data(datasets)"
   ]
  },
  {
   "cell_type": "markdown",
   "id": "4f759598-bdd9-4afb-8f98-5dc670a0beea",
   "metadata": {},
   "source": [
    "## Normalization"
   ]
  },
  {
   "cell_type": "markdown",
   "id": "62735db4-7059-466b-bcdd-24fcbd58e502",
   "metadata": {},
   "source": [
    "### drugs_imputed"
   ]
  },
  {
   "cell_type": "code",
   "execution_count": null,
   "id": "86aca7b0-83bf-4209-9f0b-c3b202dd65d3",
   "metadata": {},
   "outputs": [],
   "source": [
    "# Z-score normalization\n",
    "scaler = StandardScaler()\n",
    "\n",
    "drugs_normalized = scaler.fit_transform(drugs_imputed)\n",
    "drugs_normalized = pd.DataFrame(drugs_normalized, index=drugs_imputed.index, columns=drugs_imputed.columns)\n",
    "drugs_normalized.describe()"
   ]
  },
  {
   "cell_type": "code",
   "execution_count": null,
   "id": "7e7eeac6-0e30-409d-9924-a32e55c19f19",
   "metadata": {},
   "outputs": [],
   "source": [
    "# Check normalized data\n",
    "print(drugs_normalized.describe().T[['mean', 'std']])"
   ]
  },
  {
   "cell_type": "markdown",
   "id": "5e331e51-8b61-4a30-84e3-117e6ffc4eac",
   "metadata": {},
   "source": [
    "Mean: The mean values for each sample are very close to zero, which is what you would expect from normalized data.\n",
    "Standard Deviation: The standard deviation values for each sample are very close to 1.001617. Ideally, we expect a standard deviation of 1, but the slight deviation is due to numerical precision and rounding errors, which are acceptable."
   ]
  },
  {
   "cell_type": "code",
   "execution_count": null,
   "id": "c0610a88-e8c4-4af6-ae56-dbcaefa761bd",
   "metadata": {},
   "outputs": [],
   "source": [
    "# Normalized drug response distribution\n",
    "subset_drugs_normalized = drugs_normalized.iloc[:, :5]\n",
    "\n",
    "sns.pairplot(subset_drugs_normalized)\n",
    "plt.suptitle('Pairplot of Normalized Drug Data', y=1.02)\n",
    "plt.show()"
   ]
  },
  {
   "cell_type": "code",
   "execution_count": null,
   "id": "e909259b-71af-4a61-87ad-a473e6976456",
   "metadata": {},
   "outputs": [],
   "source": [
    "# Distribution before and after normalization\n",
    "fig, axs = plt.subplots(1, 2, figsize=(14, 6))\n",
    "\n",
    "# Before normalization\n",
    "sns.histplot(drugs_imputed.values.flatten(), bins=100, ax=axs[0])\n",
    "axs[0].set_title('Histogram of Drug Response Values (Before Normalization)')\n",
    "axs[0].set_xlabel('Drug Response')\n",
    "axs[0].set_ylabel('Frequency')\n",
    "\n",
    "# After normalization\n",
    "sns.histplot(drugs_normalized.values.flatten(), bins=100, ax=axs[1])\n",
    "axs[1].set_title('Histogram of Z-score Normalized Drug Response Values')\n",
    "axs[1].set_xlabel('Drug Response')\n",
    "axs[1].set_ylabel('Frequency')\n",
    "\n",
    "plt.tight_layout()\n",
    "plt.show()"
   ]
  },
  {
   "cell_type": "code",
   "execution_count": null,
   "id": "fa8b051f-893c-4f44-ae69-dfe7a6bdba14",
   "metadata": {},
   "outputs": [],
   "source": [
    "# Z-score normalization\n",
    "drugs_zscore = scaler.fit_transform(drugs_imputed)\n",
    "drugs_zscore_df = pd.DataFrame(drugs_zscore, index=drugs_imputed.index, columns=drugs_imputed.columns)\n",
    "\n",
    "# Min-Max scaling\n",
    "minmax_scaler = MinMaxScaler()\n",
    "drugs_minmax = minmax_scaler.fit_transform(drugs_imputed)\n",
    "drugs_minmax_df = pd.DataFrame(drugs_minmax, index=drugs_imputed.index, columns=drugs_imputed.columns)\n",
    "\n",
    "# Robust scaling\n",
    "robust_scaler = RobustScaler()\n",
    "drugs_robust = robust_scaler.fit_transform(drugs_imputed)\n",
    "drugs_robust_df = pd.DataFrame(drugs_robust, index=drugs_imputed.index, columns=drugs_imputed.columns)\n",
    "\n",
    "# Log transformation\n",
    "drugs_log = np.log1p(drugs_imputed)\n",
    "drugs_log_df = pd.DataFrame(drugs_log, index=drugs_imputed.index, columns=drugs_imputed.columns)"
   ]
  },
  {
   "cell_type": "code",
   "execution_count": null,
   "id": "c83c75bb-d6bf-4067-af75-7ee81cf64a2b",
   "metadata": {},
   "outputs": [],
   "source": [
    "# Comparison between different normalization techniques\n",
    "fig = plt.figure(figsize=(10, 10))\n",
    "\n",
    "# Before normalization\n",
    "ax_main = fig.add_subplot(3, 1, 1)\n",
    "sns.histplot(drugs_imputed.values.flatten(), bins=100, ax=ax_main, kde=True)\n",
    "ax_main.set_title('Not Normalized Data')\n",
    "ax_main.set_xlabel('Value')\n",
    "ax_main.set_ylabel('Frequency')\n",
    "\n",
    "# Z-score\n",
    "ax1 = fig.add_subplot(3, 2, 3)\n",
    "sns.histplot(drugs_zscore_df.values.flatten(), bins=100, ax=ax1, kde=True)\n",
    "ax1.set_title('Z-score Normalization')\n",
    "ax1.set_xlabel('Value')\n",
    "ax1.set_ylabel('Frequency')\n",
    "\n",
    "# Min-Max\n",
    "ax2 = fig.add_subplot(3, 2, 4)\n",
    "sns.histplot(drugs_minmax_df.values.flatten(), bins=100, ax=ax2, kde=True)\n",
    "ax2.set_title('Min-Max Scaling')\n",
    "ax2.set_xlabel('Value')\n",
    "ax2.set_ylabel('Frequency')\n",
    "\n",
    "# Robust\n",
    "ax3 = fig.add_subplot(3, 2, 5)\n",
    "sns.histplot(drugs_robust_df.values.flatten(), bins=100, ax=ax3, kde=True)\n",
    "ax3.set_title('Robust Scaling')\n",
    "ax3.set_xlabel('Value')\n",
    "ax3.set_ylabel('Frequency')\n",
    "\n",
    "# Log\n",
    "ax4 = fig.add_subplot(3, 2, 6)\n",
    "sns.histplot(drugs_log_df.values.flatten(), bins=100, ax=ax4, kde=True)\n",
    "ax4.set_title('Log Transformation')\n",
    "ax4.set_xlabel('Value')\n",
    "ax4.set_ylabel('Frequency')\n",
    "\n",
    "plt.tight_layout()\n",
    "plt.show()"
   ]
  },
  {
   "cell_type": "code",
   "execution_count": null,
   "id": "239397ac-b6ca-4d8b-91db-c84766e895f1",
   "metadata": {},
   "outputs": [],
   "source": [
    "drugs_normalized = drugs_robust_df"
   ]
  },
  {
   "cell_type": "markdown",
   "id": "6739c7a0-ff4b-4d92-acb7-385aeab7b57f",
   "metadata": {},
   "source": [
    "### methylation_imputed"
   ]
  },
  {
   "cell_type": "code",
   "execution_count": null,
   "id": "e742f631-8a1d-4615-9bca-d5454e4d9fc7",
   "metadata": {},
   "outputs": [],
   "source": [
    "# Quantile normalization\n",
    "quantile_transformer = QuantileTransformer(output_distribution='normal', random_state=0)\n",
    "methylation_normalized = pd.DataFrame(quantile_transformer.fit_transform(methylation_imputed), \n",
    "                                               index=methylation_imputed.index, \n",
    "                                               columns=methylation_imputed.columns)"
   ]
  },
  {
   "cell_type": "code",
   "execution_count": null,
   "id": "1e517d74-3d4e-48a8-b838-e5accae97e89",
   "metadata": {},
   "outputs": [],
   "source": [
    "# Distribution before and after normalization\n",
    "fig, axs = plt.subplots(1, 2, figsize=(14, 6))\n",
    "\n",
    "# Before normalization\n",
    "sns.histplot(methylation_imputed.values.flatten(), bins=100, ax=axs[0])\n",
    "axs[0].set_title('Methylation (Before Normalization)')\n",
    "axs[0].set_xlabel('Methylation Level')\n",
    "axs[0].set_ylabel('Frequency')\n",
    "\n",
    "# After normalization\n",
    "sns.histplot(methylation_normalized.values.flatten(), bins=100, ax=axs[1])\n",
    "axs[1].set_title('Normalized Methylation')\n",
    "axs[1].set_xlabel('Methylation Level')\n",
    "axs[1].set_ylabel('Frequency')\n",
    "\n",
    "plt.tight_layout()\n",
    "plt.show()"
   ]
  },
  {
   "cell_type": "code",
   "execution_count": null,
   "id": "d4849f13-1aca-4ba7-8837-0051861d6520",
   "metadata": {},
   "outputs": [],
   "source": [
    "# Boxplot and QQplot for methylation\n",
    "data_flattened = methylation_normalized.values.flatten()\n",
    "\n",
    "# Create the figure and subplots\n",
    "fig, ax = plt.subplots(1, 2, figsize=(16, 8))\n",
    "\n",
    "# Boxplot\n",
    "sns.boxplot(data=data_flattened, ax=ax[0], color='skyblue')\n",
    "ax[0].set_title('Boxplot of Methylation Values')\n",
    "ax[0].set_xlabel('Methylation Level')\n",
    "\n",
    "# QQ plot\n",
    "stats.probplot(data_flattened, dist=\"norm\", plot=ax[1])\n",
    "ax[1].set_title('QQ Plot of Methylation Values')\n",
    "ax[1].set_xlabel('Theoretical Quantiles')\n",
    "ax[1].set_ylabel('Sample Quantiles')\n",
    "\n",
    "plt.tight_layout()\n",
    "plt.show()"
   ]
  },
  {
   "cell_type": "code",
   "execution_count": null,
   "id": "6bd70b6b-08b4-4e89-9093-54df04278c7e",
   "metadata": {},
   "outputs": [],
   "source": [
    "# Save to CSV file\n",
    "csv_file_path = 'data/methylation_normalized.csv'\n",
    "methylation_normalized.to_csv(csv_file_path)"
   ]
  },
  {
   "cell_type": "markdown",
   "id": "621f08a4-8ed8-40c5-a3d8-9456921a6eca",
   "metadata": {},
   "source": [
    "### expr_imputed"
   ]
  },
  {
   "cell_type": "code",
   "execution_count": null,
   "id": "22ea9815-24a7-4552-bb66-578a360f3a43",
   "metadata": {},
   "outputs": [],
   "source": [
    "# Log Transformation\n",
    "expr_log = np.log2(expr_imputed)"
   ]
  },
  {
   "cell_type": "code",
   "execution_count": null,
   "id": "460900bb-7be6-496b-81c6-ef420cf1ed12",
   "metadata": {},
   "outputs": [],
   "source": [
    "# Plot log-transformed  expr data distribution\n",
    "all_values_log = expr_log.values.flatten()\n",
    "\n",
    "plt.figure(figsize=(10, 6))\n",
    "plt.hist(all_values_log, bins=100, color='skyblue', edgecolor='black')\n",
    "plt.title('Histogram of Log-Transformed Gene Expression Values')\n",
    "plt.xlabel('Log2(Expression Level)')\n",
    "plt.ylabel('Frequency')\n",
    "plt.axvline(np.mean(all_values_log), color='r', linestyle='--', linewidth=1.5, label=f'Mean: {np.mean(all_values_log):.2f}')\n",
    "plt.axvline(np.median(all_values_log), color='g', linestyle='--', linewidth=1.5, label=f'Median: {np.median(all_values_log):.2f}')\n",
    "plt.legend()\n",
    "plt.show()"
   ]
  },
  {
   "cell_type": "code",
   "execution_count": null,
   "id": "093ca777-627d-4435-ac99-e434d40abfff",
   "metadata": {},
   "outputs": [],
   "source": [
    "# Z-score normalization\n",
    "expr_zscore = scaler.fit_transform(expr_imputed)\n",
    "expr_zscore_df = pd.DataFrame(expr_zscore, index=expr_imputed.index, columns=expr_imputed.columns)\n",
    "\n",
    "# Min-Max scaling\n",
    "minmax_scaler = MinMaxScaler()\n",
    "expr_minmax = minmax_scaler.fit_transform(expr_imputed)\n",
    "expr_minmax_df = pd.DataFrame(expr_minmax, index=expr_imputed.index, columns=expr_imputed.columns)\n",
    "\n",
    "# Robust scaling\n",
    "robust_scaler = RobustScaler()\n",
    "expr_robust = robust_scaler.fit_transform(expr_imputed)\n",
    "expr_robust_df = pd.DataFrame(expr_robust, index=expr_imputed.index, columns=expr_imputed.columns)\n",
    "\n",
    "# Log transformation\n",
    "expr_log = np.log1p(expr_imputed)\n",
    "expr_log_df = pd.DataFrame(expr_log, index=expr_imputed.index, columns=expr_imputed.columns)\n",
    "\n",
    "# Quantile transformation\n",
    "quantile_transformer = QuantileTransformer(output_distribution='normal', random_state=0)\n",
    "expr_quantile_normalized = quantile_transformer.fit_transform(expr_imputed)\n",
    "expr_quantile_normalized_df = pd.DataFrame(expr_quantile_normalized, index=expr_imputed.index, columns=expr_imputed.columns)"
   ]
  },
  {
   "cell_type": "code",
   "execution_count": null,
   "id": "66a6eb7c-a1f7-4e89-a8ec-ff52198c5e68",
   "metadata": {},
   "outputs": [],
   "source": [
    "# Comparison between different normalization techniques\n",
    "fig, axes = plt.subplots(2, 3, figsize=(18, 12))\n",
    "\n",
    "# Before normalization\n",
    "sns.histplot(expr_imputed.values.flatten(), bins=100, ax=axes[0, 0], kde=True)\n",
    "axes[0, 0].set_title('Not Normalized Data')\n",
    "axes[0, 0].set_xlabel('Value')\n",
    "axes[0, 0].set_ylabel('Frequency')\n",
    "\n",
    "# Z-score\n",
    "sns.histplot(expr_zscore_df.values.flatten(), bins=100, ax=axes[0, 1], kde=True)\n",
    "axes[0, 1].set_title('Z-score Normalization')\n",
    "axes[0, 1].set_xlabel('Value')\n",
    "axes[0, 1].set_ylabel('Frequency')\n",
    "\n",
    "# Min-Max\n",
    "sns.histplot(expr_minmax_df.values.flatten(), bins=100, ax=axes[0, 2], kde=True)\n",
    "axes[0, 2].set_title('Min-Max Scaling')\n",
    "axes[0, 2].set_xlabel('Value')\n",
    "axes[0, 2].set_ylabel('Frequency')\n",
    "\n",
    "# Robust\n",
    "sns.histplot(expr_robust_df.values.flatten(), bins=100, ax=axes[1, 0], kde=True)\n",
    "axes[1, 0].set_title('Robust Scaling')\n",
    "axes[1, 0].set_xlabel('Value')\n",
    "axes[1, 0].set_ylabel('Frequency')\n",
    "\n",
    "# Log\n",
    "sns.histplot(expr_log_df.values.flatten(), bins=100, ax=axes[1, 1], kde=True)\n",
    "axes[1, 1].set_title('Log Transformation')\n",
    "axes[1, 1].set_xlabel('Value')\n",
    "axes[1, 1].set_ylabel('Frequency')\n",
    "\n",
    "# Quantile\n",
    "sns.histplot(expr_quantile_normalized_df.values.flatten(), bins=100, ax=axes[1, 2], kde=True)\n",
    "axes[1, 2].set_title('Quantile Normalization')\n",
    "axes[1, 2].set_xlabel('Value')\n",
    "axes[1, 2].set_ylabel('Frequency')\n",
    "\n",
    "plt.tight_layout()\n",
    "plt.show()"
   ]
  },
  {
   "cell_type": "code",
   "execution_count": null,
   "id": "717408a2-db8d-434f-8ec1-6ce170f5cdd0",
   "metadata": {},
   "outputs": [],
   "source": [
    "expr_normalized = expr_quantile_normalized_df"
   ]
  },
  {
   "cell_type": "code",
   "execution_count": null,
   "id": "ec5b71a3-b5c6-4a53-8d4a-a02a47c28fe4",
   "metadata": {},
   "outputs": [],
   "source": [
    "# Save to CSV file\n",
    "csv_file_path = 'data/expr_normalized.csv'\n",
    "expr_normalized.to_csv(csv_file_path)"
   ]
  },
  {
   "cell_type": "markdown",
   "id": "9b74756d-f098-423c-a3d5-46f358dd1e0f",
   "metadata": {},
   "source": [
    "# Joining Omics datasets"
   ]
  },
  {
   "cell_type": "code",
   "execution_count": null,
   "id": "c255a32b-2be7-4c2a-8f9c-6348df302428",
   "metadata": {},
   "outputs": [],
   "source": [
    "# Import annotated methylation from the R analysis\n",
    "methylation_agg = pd.read_csv(\"data\\methylation_agg.csv\", index_col=0)\n",
    "methylation_agg"
   ]
  },
  {
   "cell_type": "code",
   "execution_count": null,
   "id": "69076c44-d21a-4ca7-93b5-e1fb1e53f647",
   "metadata": {},
   "outputs": [],
   "source": [
    "# Check for common indices \n",
    "common_indices = expr_normalized.index.intersection(mutations_imputed.index).intersection(methylation_agg.index)\n",
    "common_indices_count = len(common_indices)\n",
    "\n",
    "print(f\"Common row indices between expr, mutations, and methylation: {common_indices_count}\")\n",
    "print(f\"Common row indices: {common_indices.tolist()}\")"
   ]
  },
  {
   "cell_type": "code",
   "execution_count": null,
   "id": "19d094e7-67f9-45c0-bd4e-31f758f2bf4d",
   "metadata": {},
   "outputs": [],
   "source": [
    "# Indexing meth, expr and mut data\n",
    "methylation_agg.index = [f\"{idx}_meth\" for idx in methylation_agg.index]\n",
    "expr_normalized.index = [f\"{idx}_expr\" for idx in expr_normalized.index]\n",
    "mutations_imputed.index = [f\"{idx}_mut\" for idx in mutations_imputed.index]"
   ]
  },
  {
   "cell_type": "code",
   "execution_count": null,
   "id": "5cc45c55-3a85-46ab-8070-686b3be21157",
   "metadata": {},
   "outputs": [],
   "source": [
    "# Join normalized omics data \n",
    "multiomics_data = covariates.join([df.T for df in [drugs_normalized, methylation_agg, mutations_imputed, expr_normalized]], how='left')\n",
    "multiomics_data"
   ]
  },
  {
   "cell_type": "code",
   "execution_count": null,
   "id": "88570d02-8f57-4044-aeca-3cd3282f1a30",
   "metadata": {},
   "outputs": [],
   "source": [
    "# Check for missing values \n",
    "print(f'Total number of missing values in multiomics_data: {multiomics_data.isnull().sum().sum()}\\n')"
   ]
  },
  {
   "cell_type": "code",
   "execution_count": null,
   "id": "a9ee78c7-979e-402b-b767-8663b9e81aec",
   "metadata": {},
   "outputs": [],
   "source": [
    "# Drop Diagnosis\n",
    "multiomics_data.drop(columns=['Diagnosis'], inplace=True)"
   ]
  },
  {
   "cell_type": "code",
   "execution_count": null,
   "id": "0130c299-1e06-4678-b208-9f758828635c",
   "metadata": {},
   "outputs": [],
   "source": [
    "# Convert gender to numeric labels\n",
    "multiomics_data['Gender'], unique_genders = pd.factorize(multiomics_data['Gender'])"
   ]
  },
  {
   "cell_type": "code",
   "execution_count": null,
   "id": "fa1326e1-6564-4176-adbe-ee5ac93bce2f",
   "metadata": {},
   "outputs": [],
   "source": [
    "# Check gender codes\n",
    "gender_mapping = {index: gender for index, gender in enumerate(unique_genders)}\n",
    "print(\"Gender mapping:\", gender_mapping)"
   ]
  },
  {
   "cell_type": "code",
   "execution_count": null,
   "id": "a7236e9e-00a9-4a8c-8ee9-a70c54d61c77",
   "metadata": {},
   "outputs": [],
   "source": [
    "# Save to CSV file\n",
    "csv_file_path = 'data/multiomics_data.csv'\n",
    "multiomics_data.to_csv(csv_file_path)"
   ]
  },
  {
   "cell_type": "code",
   "execution_count": null,
   "id": "ff191711-9461-4bfe-9219-7de94985195f",
   "metadata": {},
   "outputs": [],
   "source": [
    "# PCA & t-SNE of multiomics data\n",
    "pca = PCA(n_components=200)\n",
    "pca_result = pca.fit_transform(multiomics_data.select_dtypes(include=[float, int]))\n",
    "\n",
    "# Get explained variance ratio\n",
    "explained_variance = pca.explained_variance_ratio_\n",
    "\n",
    "# Perform t-SNE with a fixed random seed\n",
    "tsne = TSNE(n_components=2, perplexity=30, n_iter=300, random_state=38)\n",
    "tsne_result = tsne.fit_transform(multiomics_data.select_dtypes(include=[float, int]))\n",
    "\n",
    "# Set up the plots side by side\n",
    "fig, axes = plt.subplots(1, 2, figsize=(20, 8))\n",
    "\n",
    "# Create numeric labels from the 'Gender' column\n",
    "labels = multiomics_data['Gender']\n",
    "\n",
    "# Plot PCA results\n",
    "scatter_pca = axes[0].scatter(pca_result[:,0], pca_result[:,1], c=labels, cmap='viridis', s=50, edgecolor='k')\n",
    "axes[0].set_title('PCA of Merged Data')\n",
    "axes[0].set_xlabel(f'PCA Component 1 ({explained_variance[0]*100:.2f}% variance)')\n",
    "axes[0].set_ylabel(f'PCA Component 2 ({explained_variance[1]*100:.2f}% variance)')\n",
    "axes[0].grid(True)\n",
    "colorbar_pca = fig.colorbar(scatter_pca, ax=axes[0])\n",
    "colorbar_pca.set_label('Gender')\n",
    "\n",
    "# Plot t-SNE results\n",
    "scatter_tsne = axes[1].scatter(tsne_result[:,0], tsne_result[:,1], c=labels, cmap='viridis', s=50, edgecolor='k')\n",
    "axes[1].set_title('t-SNE of Merged Data')\n",
    "axes[1].set_xlabel('t-SNE Component 1')\n",
    "axes[1].set_ylabel('t-SNE Component 2')\n",
    "axes[1].grid(True)\n",
    "colorbar_tsne = fig.colorbar(scatter_tsne, ax=axes[1])\n",
    "colorbar_tsne.set_label('Gender')\n",
    "\n",
    "# Enhance overall layout\n",
    "plt.tight_layout()\n",
    "plt.show()"
   ]
  },
  {
   "cell_type": "markdown",
   "id": "8d4c79c2-f922-44aa-9ed9-f492c5ef1ef2",
   "metadata": {},
   "source": [
    "# Feature Selection"
   ]
  },
  {
   "cell_type": "markdown",
   "id": "269d9d81-68d7-4c0c-9947-8c2af181fe00",
   "metadata": {},
   "source": [
    "## Correlation"
   ]
  },
  {
   "cell_type": "code",
   "execution_count": null,
   "id": "6b25530a-7384-4ea8-8e8e-ec8c02c89768",
   "metadata": {},
   "outputs": [],
   "source": [
    "# Correlation Analysis\n",
    "correlation_matrix = multiomics_data.corr()\n",
    "gender_correlation = correlation_matrix['Gender'].sort_values(ascending=False)\n",
    "\n",
    "# Top 2000 features \n",
    "top_features_corr = gender_correlation.head(2000).index.tolist()"
   ]
  },
  {
   "cell_type": "code",
   "execution_count": null,
   "id": "81d89c53-13a0-4354-a6f0-d535f7e31537",
   "metadata": {},
   "outputs": [],
   "source": [
    "# Heatmap for selected top features\n",
    "top_features = gender_correlation.head(2000)\n",
    "\n",
    "sns.set(style=\"whitegrid\")\n",
    "\n",
    "plt.figure(figsize=(22, 12))\n",
    "sns.heatmap(multiomics_data[top_features.index[:25]].corr().round(2), \n",
    "            annot=True, fmt='.2f', cmap='coolwarm', linewidths=.5, \n",
    "            mask=np.triu(np.ones_like(multiomics_data[top_features.index[:25]].corr(), dtype=bool), k=1),\n",
    "            cbar_kws={\"shrink\": 0.8, \"label\": \"Correlation Coefficient\"}, annot_kws={\"size\": 10})\n",
    "\n",
    "plt.title('Correlation Matrix of Top 25 Features with Gender', fontsize=20, weight='bold', pad=20)\n",
    "plt.xticks(fontsize=12, rotation=45, ha=\"right\", weight='bold')\n",
    "plt.yticks(fontsize=12, weight='bold')\n",
    "plt.tight_layout()\n",
    "plt.show()"
   ]
  },
  {
   "cell_type": "markdown",
   "id": "b7f940de-f3d8-4680-bd95-42ff1700a06f",
   "metadata": {},
   "source": [
    "## Variance "
   ]
  },
  {
   "cell_type": "code",
   "execution_count": null,
   "id": "fc59dca4-8356-4362-ad8b-b99761a50857",
   "metadata": {},
   "outputs": [],
   "source": [
    "# Variance \n",
    "X = multiomics_data.drop(columns=['Gender'])\n",
    "y = multiomics_data['Gender']\n",
    "\n",
    "selector = VarianceThreshold(threshold=0.1)\n",
    "X_high_variance = selector.fit_transform(X)\n",
    "top_features_var = X.columns[selector.get_support()]\n",
    "\n",
    "print(f\"Number of features before: {X.shape[1]}\")\n",
    "print(f\"Number of features after: {X_high_variance.shape[1]}\")"
   ]
  },
  {
   "cell_type": "markdown",
   "id": "63fb0266-fc96-461a-8657-06fddd918c63",
   "metadata": {},
   "source": [
    "## Feature Importance"
   ]
  },
  {
   "cell_type": "code",
   "execution_count": null,
   "id": "5af9bd6d-a49b-4e59-a5ca-daa5f24d27e1",
   "metadata": {},
   "outputs": [],
   "source": [
    "# Random Forest classifier\n",
    "rf = RandomForestClassifier(n_estimators=100, random_state=15)\n",
    "rf.fit(X, y)\n",
    "\n",
    "feature_importances = pd.Series(rf.feature_importances_, index=X.columns).sort_values(ascending=False)\n",
    "\n",
    "top_features_rf = feature_importances.head(2000).index.tolist()"
   ]
  },
  {
   "cell_type": "markdown",
   "id": "e7a1a00d-438c-477b-bd9e-afb98c36d733",
   "metadata": {},
   "source": [
    "## Statistical Test"
   ]
  },
  {
   "cell_type": "code",
   "execution_count": null,
   "id": "cd9269cf-67b7-48e8-8991-6d48f5bfb754",
   "metadata": {},
   "outputs": [],
   "source": [
    "# SelectKBest\n",
    "selector = SelectKBest(score_func=f_classif, k=2000)\n",
    "selector.fit(X, y)\n",
    "top_features_anova = X.columns[selector.get_support()].tolist()"
   ]
  },
  {
   "cell_type": "markdown",
   "id": "f39d7b08-ee0e-4522-a124-d5f3362bc075",
   "metadata": {},
   "source": [
    "## Intersect features "
   ]
  },
  {
   "cell_type": "code",
   "execution_count": null,
   "id": "5535e240-8f6d-44b5-9a4b-ce9b219dd453",
   "metadata": {},
   "outputs": [],
   "source": [
    "# Intersect features\n",
    "all_features = list(top_features_var) + list(top_features_rf) + list(top_features_anova) + list(top_features_corr)\n",
    "unique_features = list(set(all_features))\n",
    "len(unique_features)"
   ]
  },
  {
   "cell_type": "code",
   "execution_count": null,
   "id": "48bbfaa9-bbd7-4ddf-b924-c0254f1e5f0a",
   "metadata": {},
   "outputs": [],
   "source": [
    "# Create new df with intersected features\n",
    "subset_columns = list(set(top_features_var) | set(top_features_rf) | set(top_features_anova) | set(top_features_corr))\n",
    "subset_multiomics_data = multiomics_data[subset_columns]\n",
    "subset_multiomics_data"
   ]
  },
  {
   "cell_type": "markdown",
   "id": "76b5e8ce-b8ce-4528-8580-31ceef9f5b90",
   "metadata": {},
   "source": [
    "## Multivariate Feature Selection"
   ]
  },
  {
   "cell_type": "markdown",
   "id": "18b92a01-8a76-430e-bf7b-afc59074bafa",
   "metadata": {},
   "source": [
    "### Lasso"
   ]
  },
  {
   "cell_type": "code",
   "execution_count": null,
   "id": "c5af775c-7066-45c4-9789-9557851c0e82",
   "metadata": {},
   "outputs": [],
   "source": [
    "# Lasso\n",
    "X = subset_multiomics_data.drop(columns=['Gender'])  \n",
    "y = subset_multiomics_data['Gender']\n",
    "\n",
    "lasso = Lasso(alpha=0.01)\n",
    "lasso.fit(X, y)\n",
    "model = SelectFromModel(lasso, prefit=True)\n",
    "selected_features_multivar = X.columns[(model.get_support())]"
   ]
  },
  {
   "cell_type": "code",
   "execution_count": null,
   "id": "d77b2905-23a0-4660-a941-3192fabfb043",
   "metadata": {},
   "outputs": [],
   "source": [
    "# Create new df with Lasso features\n",
    "lasso_data = subset_multiomics_data[selected_features_multivar.tolist() + [\"Gender\"]]\n",
    "lasso_data"
   ]
  },
  {
   "cell_type": "markdown",
   "id": "d8b8693f-1a20-48a9-a3de-b983bf49a695",
   "metadata": {},
   "source": [
    "### SelectKBest"
   ]
  },
  {
   "cell_type": "code",
   "execution_count": null,
   "id": "5c8fc9bb-034b-4307-855b-5410cfb523a8",
   "metadata": {},
   "outputs": [],
   "source": [
    "# Check for constant features and `inf` values in the data\n",
    "constant_features = [col for col in X.columns if X[col].nunique() == 1]\n",
    "columns_with_inf = X.columns[np.isinf(X).any()]\n",
    "\n",
    "print(\"Constant Features (same value for all samples):\", constant_features if constant_features else \"None\")\n",
    "print(f\"Number of `inf` values in the dataset: {np.isinf(X).sum().sum()}\")\n",
    "print(f\"Columns with `inf` values: {columns_with_inf.tolist()}\")"
   ]
  },
  {
   "cell_type": "code",
   "execution_count": null,
   "id": "67c70312-456e-44e4-9c99-b253ddc016ee",
   "metadata": {},
   "outputs": [],
   "source": [
    "# Univariate Feature Selection\n",
    "bestfeatures = SelectKBest(score_func=f_classif, k=2000)  \n",
    "fit = bestfeatures.fit(X, y)\n",
    "df_scores = pd.DataFrame(fit.scores_)\n",
    "df_columns = pd.DataFrame(X.columns)\n",
    "\n",
    "featureScores = pd.concat([df_columns, df_scores], axis=1)\n",
    "featureScores.columns = ['Feature', 'Score']\n",
    "selected_features = featureScores.nlargest(2000, 'Score')['Feature']\n",
    "\n",
    "# Combine features with Lasso\n",
    "combined_selected_features = list(set(selected_features) | set(selected_features_multivar))\n",
    "X_selected = X.loc[:, combined_selected_features]\n",
    "X_selected"
   ]
  },
  {
   "cell_type": "code",
   "execution_count": null,
   "id": "bffc9d89-83ab-48aa-ba36-7db8cbdc3597",
   "metadata": {},
   "outputs": [],
   "source": [
    "# StratifiedKFold\n",
    "kf = StratifiedKFold(n_splits=5)\n",
    "selected_features_per_fold = []\n",
    "\n",
    "for train_index, test_index in kf.split(X_selected, y):\n",
    "    X_train, X_test = X_selected.iloc[train_index], X_selected.iloc[test_index]\n",
    "    y_train, y_test = y.iloc[train_index], y.iloc[test_index]\n",
    "\n",
    "    selector = SelectKBest(score_func=f_classif, k=50) \n",
    "    X_train_selected = selector.fit_transform(X_train, y_train)\n",
    "\n",
    "    selected_feature_names = X_train.columns[selector.get_support()]\n",
    "    selected_features_per_fold.append(selected_feature_names)"
   ]
  },
  {
   "cell_type": "code",
   "execution_count": null,
   "id": "8c99af04-2b75-44a1-ada8-9d0da58e8735",
   "metadata": {},
   "outputs": [],
   "source": [
    "# Combine all selected features from all folds \n",
    "all_selected_features = set()\n",
    "for features in selected_features_per_fold:\n",
    "    all_selected_features.update(features)\n",
    "\n",
    "filtered_multiomics_data = multiomics_data[list(all_selected_features) + ['Gender']]\n",
    "filtered_multiomics_data"
   ]
  },
  {
   "cell_type": "markdown",
   "id": "6ffc27a0-b6be-4489-bf19-24ae6be80bea",
   "metadata": {},
   "source": [
    "# Feature Engineering"
   ]
  },
  {
   "cell_type": "markdown",
   "id": "19e5fc30-0d25-45c0-8788-2e04169e6537",
   "metadata": {},
   "source": [
    "## Methylation & Expression"
   ]
  },
  {
   "cell_type": "code",
   "execution_count": null,
   "id": "f71e390d-ea12-47ed-b8c2-60665035797d",
   "metadata": {},
   "outputs": [],
   "source": [
    "# Load methylation correlation data from R\n",
    "gene_correlation = [gene for gene in pd.read_csv(\"data/gene_correlation.csv\", header=None).iloc[:, 0] if gene != \"x\"]"
   ]
  },
  {
   "cell_type": "code",
   "execution_count": null,
   "id": "70f75085-f1b5-45b6-93af-3813772d28f3",
   "metadata": {},
   "outputs": [],
   "source": [
    "# Check for the presence of genes already in the data\n",
    "suffixes = ['_expr', '_mut', '_meth']\n",
    "present_columns = [gene + suffix for gene in gene_correlation for suffix in suffixes if gene + suffix in filtered_multiomics_data.columns]\n",
    "\n",
    "# Print the count of present columns\n",
    "print(f\"Number of columns present: {len(present_columns)}\")"
   ]
  },
  {
   "cell_type": "code",
   "execution_count": null,
   "id": "7c83e32c-1790-4c05-8f85-26540f0d80c6",
   "metadata": {},
   "outputs": [],
   "source": [
    "# Calculate the ratio between methylation and expression\n",
    "for gene in gene_correlation:\n",
    "    meth_col, expr_col = gene + '_meth', gene + '_expr'\n",
    "    \n",
    "    if {meth_col, expr_col}.issubset(multiomics_data.columns):\n",
    "        multiomics_data[gene + '_corr'] = multiomics_data[meth_col] / multiomics_data[expr_col]\n",
    "    else:\n",
    "        print(f\"Columns for {gene} not found in the data.\")"
   ]
  },
  {
   "cell_type": "code",
   "execution_count": null,
   "id": "f28cc97a-153f-4bdf-a087-a412c9d8ebcc",
   "metadata": {},
   "outputs": [],
   "source": [
    "# Add _corr data to the data\n",
    "corr_columns = [col for col in multiomics_data.columns if col.endswith('_corr')]\n",
    "subset_multiomics_data_corr = multiomics_data[corr_columns]"
   ]
  },
  {
   "cell_type": "code",
   "execution_count": null,
   "id": "fd97d8a6-052e-4779-ba3f-cef15c3e57c7",
   "metadata": {},
   "outputs": [],
   "source": [
    "# Join _corr data to the filtered_multiomics_data\n",
    "joined_data = filtered_multiomics_data.join(subset_multiomics_data_corr, how='left')\n",
    "joined_data"
   ]
  },
  {
   "cell_type": "code",
   "execution_count": null,
   "id": "2fdffda7-4925-4305-8c39-ff339102d6cd",
   "metadata": {},
   "outputs": [],
   "source": [
    "# Define threshold for extremely large values\n",
    "extremely_large_value_threshold = 1e6\n",
    "\n",
    "# Count NaN, infinity, and extremely large values\n",
    "nan_count = joined_data.isna().sum().sum()\n",
    "inf_count = np.isinf(joined_data).sum().sum()\n",
    "neg_inf_count = np.isneginf(joined_data).sum().sum()\n",
    "extremely_large_count = (joined_data > extremely_large_value_threshold).sum().sum()\n",
    "\n",
    "# Print the results\n",
    "print(f\"Number of NaN values: {nan_count}\")\n",
    "print(f\"Number of positive and negative infinity values: {inf_count}\")\n",
    "print(f\"Number of negative infinity values: {neg_inf_count}\")\n",
    "print(f\"Number of extremely large values (> {extremely_large_value_threshold}): {extremely_large_count}\")"
   ]
  },
  {
   "cell_type": "code",
   "execution_count": null,
   "id": "cf1dd4fe-f6a0-42a8-aec7-3dc0e405dcab",
   "metadata": {},
   "outputs": [],
   "source": [
    "# Filter rows and columns with +/- inf\n",
    "filtered_inf_rows = joined_data[np.isinf(joined_data).any(axis=1)].loc[:, np.isinf(joined_data).any(axis=0)]\n",
    "filtered_inf_rows"
   ]
  },
  {
   "cell_type": "code",
   "execution_count": null,
   "id": "ab1a01da-e42c-4784-9a94-b3283d1eda8a",
   "metadata": {},
   "outputs": [],
   "source": [
    "# Replace inf value\n",
    "inf_value_mask = (joined_data['FGL2_corr'] == -np.inf)\n",
    "joined_data.loc[inf_value_mask, 'FGL2_corr'] = 1e+5"
   ]
  },
  {
   "cell_type": "code",
   "execution_count": null,
   "id": "2005f8b5-a326-4476-a531-eac53db5a848",
   "metadata": {},
   "outputs": [],
   "source": [
    "# Correlation of all variables with the gender\n",
    "correlations = joined_data.corr()['Gender'].drop('Gender')\n",
    "sorted_correlations = correlations.abs().sort_values(ascending=False)"
   ]
  },
  {
   "cell_type": "code",
   "execution_count": null,
   "id": "c9e8eb84-f21d-4888-8887-d9b6cfcd0186",
   "metadata": {},
   "outputs": [],
   "source": [
    "# Significant correlations\n",
    "significance_results = {col: pearsonr(joined_data[col], joined_data['Gender']) for col in sorted_correlations.index}\n",
    "significance_df = pd.DataFrame(significance_results, index=['Correlation', 'p-value']).T\n",
    "significance_df['adjusted p-value'] = multipletests(significance_df['p-value'], method='fdr_bh')[1]\n",
    "significant_correlations = significance_df[significance_df['adjusted p-value'] < 0.05]\n",
    "significant_correlations"
   ]
  },
  {
   "cell_type": "code",
   "execution_count": null,
   "id": "d11d4a55-779c-4a96-aef6-371c988dd6d7",
   "metadata": {},
   "outputs": [],
   "source": [
    "# Subset significant_correlations to the joined_data\n",
    "significant_columns = significant_correlations.index.tolist() + ['Gender']\n",
    "joined_data_2 = joined_data[significant_columns]\n",
    "joined_data_2"
   ]
  },
  {
   "cell_type": "markdown",
   "id": "c9a13051-f466-4099-99cc-79ba50e613e6",
   "metadata": {},
   "source": [
    "## Drugs Clustering"
   ]
  },
  {
   "cell_type": "code",
   "execution_count": null,
   "id": "0ba3e7ec-69ef-4d57-b4a9-b6ccb6cacb55",
   "metadata": {},
   "outputs": [],
   "source": [
    "# Subset data with drugs and Gender\n",
    "subset_multiomics_data = multiomics_data[['Gender']].join(multiomics_data.filter(regex='^D_'))\n",
    "subset_multiomics_data"
   ]
  },
  {
   "cell_type": "code",
   "execution_count": null,
   "id": "bace0481-9104-4f56-9508-31aee94b6b22",
   "metadata": {},
   "outputs": [],
   "source": [
    "# K-Means Clustering\n",
    "kmeans = KMeans(n_clusters=2, random_state=42)  \n",
    "clusters = kmeans.fit_predict(subset_multiomics_data)\n",
    "\n",
    "# Add cluster labels as a new feature\n",
    "drugs_clustered_df = subset_multiomics_data.copy()\n",
    "drugs_clustered_df['Drug_Cluster'] = clusters\n",
    "drugs_clustered_df"
   ]
  },
  {
   "cell_type": "code",
   "execution_count": null,
   "id": "35981485-0b05-4c0e-b795-4eb1ae00d36a",
   "metadata": {},
   "outputs": [],
   "source": [
    "# Add drugs_clustered data \n",
    "joined_data_3 = joined_data_2.join(drugs_clustered_df[['Drug_Cluster']], how='left')\n",
    "joined_data_3"
   ]
  },
  {
   "cell_type": "code",
   "execution_count": null,
   "id": "15e03da7-0da0-405b-8f5e-528989286d35",
   "metadata": {},
   "outputs": [],
   "source": [
    "# Correlation of all variables with gender\n",
    "correlations = joined_data_3.corr()['Gender'].drop('Gender')\n",
    "sorted_correlations = correlations.abs().sort_values(ascending=False)"
   ]
  },
  {
   "cell_type": "code",
   "execution_count": null,
   "id": "9c6a9172-96f1-4136-a9ca-010df4a50911",
   "metadata": {},
   "outputs": [],
   "source": [
    "# Adj. p vals\n",
    "significance_results = {col: pearsonr(joined_data_3[col], joined_data_3['Gender']) for col in sorted_correlations.index}\n",
    "significance_df = pd.DataFrame(significance_results, index=['Correlation', 'p-value']).T\n",
    "significance_df['adjusted p-value'] = multipletests(significance_df['p-value'], method='fdr_bh')[1]\n",
    "significant_correlations = significance_df[significance_df['adjusted p-value'] < 0.05]\n",
    "significant_correlations"
   ]
  },
  {
   "cell_type": "markdown",
   "id": "b8a7cdb8-4dbe-444e-98f7-a63ccc344de3",
   "metadata": {},
   "source": [
    "## VIF"
   ]
  },
  {
   "cell_type": "code",
   "execution_count": null,
   "id": "d403f328-509f-4a1c-8c61-df0b778ed079",
   "metadata": {},
   "outputs": [],
   "source": [
    "# VIF\n",
    "X = joined_data_3.drop(columns=['Gender'])\n",
    "\n",
    "vif_data = pd.DataFrame()\n",
    "vif_data[\"Variable\"] = X.columns\n",
    "vif_data[\"VIF\"] = [variance_inflation_factor(X.values, i) for i in range(len(X.columns))]\n",
    "vif_data"
   ]
  },
  {
   "cell_type": "code",
   "execution_count": null,
   "id": "96f1b92e-e388-4983-812d-785f859dfb69",
   "metadata": {},
   "outputs": [],
   "source": [
    "# Filter VIF with threshold\n",
    "vif_threshold = 10\n",
    "low_vif_vars = vif_data[vif_data[\"VIF\"] < vif_threshold][\"Variable\"]\n",
    "\n",
    "joined_data_3_low_vif = joined_data_3[low_vif_vars].copy()\n",
    "joined_data_3_low_vif.loc[:, 'Gender'] = joined_data_3['Gender']\n",
    "joined_data_3_low_vif"
   ]
  },
  {
   "cell_type": "markdown",
   "id": "b1078491-877c-4dd7-9641-87dc20837286",
   "metadata": {},
   "source": [
    "# Models"
   ]
  },
  {
   "cell_type": "code",
   "execution_count": null,
   "id": "0d05bf91-6afb-4020-bd51-c0555325b8d5",
   "metadata": {},
   "outputs": [],
   "source": [
    "# Function to evaluate models\n",
    "def evaluate_model(model):\n",
    "    model.fit(X_train, y_train)\n",
    "\n",
    "    y_pred = model.predict(X_test)\n",
    "\n",
    "    train_accuracy = round(model.score(X_train, y_train), 5)\n",
    "    test_accuracy = round(model.score(X_test, y_test), 6)\n",
    "\n",
    "    eval_metrics = pd.DataFrame({\n",
    "        'Metric': ['Train Accuracy', 'Test Accuracy', 'Mean Absolute Error', 'Mean Squared Error', 'Root Mean Squared Error', 'R2 Score'],\n",
    "        'Value': [\n",
    "            train_accuracy,\n",
    "            test_accuracy,\n",
    "            metrics.mean_absolute_error(y_test, y_pred),\n",
    "            metrics.mean_squared_error(y_test, y_pred),\n",
    "            np.sqrt(metrics.mean_squared_error(y_test, y_pred)),\n",
    "            metrics.r2_score(y_test, y_pred)]\n",
    "    })\n",
    "    \n",
    "    return eval_metrics"
   ]
  },
  {
   "cell_type": "code",
   "execution_count": null,
   "id": "e9b9e8c4-ac61-4992-9e25-467f188fc4ad",
   "metadata": {},
   "outputs": [],
   "source": [
    "# Splitting into features(X) and target(y)\n",
    "X = joined_data_3_low_vif.drop(columns=['Gender'])  # Drop target variable\n",
    "y = joined_data_3_low_vif['Gender']"
   ]
  },
  {
   "cell_type": "code",
   "execution_count": null,
   "id": "63b3ffa9-b8e2-441e-9768-e29c86912f81",
   "metadata": {},
   "outputs": [],
   "source": [
    "# Splitting into train and test \n",
    "X_train, X_test, y_train, y_test = train_test_split(X, y, test_size=0.2, random_state = 15)\n",
    "X_train.shape,X_test.shape,y_train.shape,y_test.shape"
   ]
  },
  {
   "cell_type": "code",
   "execution_count": null,
   "id": "b26ca260-01a7-4b1e-a0a0-5832c06e47a8",
   "metadata": {},
   "outputs": [],
   "source": [
    "# Linear Regression Model\n",
    "lr_model = LinearRegression()\n",
    "lr_model_eval = evaluate_model(lr_model)\n",
    "lr_model_eval"
   ]
  },
  {
   "cell_type": "code",
   "execution_count": null,
   "id": "e37b400f-fd5d-44b7-acfd-08caba7b384b",
   "metadata": {},
   "outputs": [],
   "source": [
    "# Ridge Regresion Model\n",
    "rr_model = Ridge(random_state=15)\n",
    "rr_model_eval = evaluate_model(rr_model)\n",
    "rr_model_eval"
   ]
  },
  {
   "cell_type": "code",
   "execution_count": null,
   "id": "7edaf5e7-8369-4beb-b6fb-456c07ba9ed6",
   "metadata": {},
   "outputs": [],
   "source": [
    "# Decision tree Model\n",
    "dt_model = DecisionTreeRegressor(min_samples_split = 15, min_samples_leaf = 15,random_state = 15)\n",
    "dt_model_eval = evaluate_model(dt_model)\n",
    "dt_model_eval"
   ]
  },
  {
   "cell_type": "code",
   "execution_count": null,
   "id": "21374a1f-1dff-41c0-b36c-6e1754f64586",
   "metadata": {},
   "outputs": [],
   "source": [
    "# Random Forest Model\n",
    "rf_model = RandomForestRegressor(n_estimators = 100, max_depth = 15, min_samples_split = 5, max_features = 'auto', random_state = 15) # \n",
    "rf_model_eval = evaluate_model(rf_model)\n",
    "rf_model_eval"
   ]
  },
  {
   "cell_type": "code",
   "execution_count": null,
   "id": "77a0e5ae-648a-41b5-a625-0c5851d27cd5",
   "metadata": {},
   "outputs": [],
   "source": [
    "# XGboost Model\n",
    "xgb_model = XGBRegressor(max_depth = 2, learning_rate = 0.04, n_estimators = 200, min_child_weight = 6, subsample = 0.7, colsample_bytree = 0.7, gamma = 0.05, random_state = 15) # early_stopping_rounds to 10 or 20\n",
    "xgb_model_eval = evaluate_model(xgb_model)\n",
    "xgb_model_eval"
   ]
  },
  {
   "cell_type": "code",
   "execution_count": null,
   "id": "a3065e2f-6c53-475a-8319-7586070f14f0",
   "metadata": {},
   "outputs": [],
   "source": [
    "# Plot important features\n",
    "feature_importance_df = pd.DataFrame({\n",
    "    'Feature': X_train.columns,\n",
    "    'Importance': xgb_model.feature_importances_\n",
    "}).sort_values(by='Importance', ascending=False)\n",
    "\n",
    "plot_importance(xgb_model, max_num_features=10)\n",
    "plt.show()"
   ]
  },
  {
   "cell_type": "code",
   "execution_count": null,
   "id": "7a81ffa6-4857-4276-a367-963fa2aeea5d",
   "metadata": {},
   "outputs": [],
   "source": [
    "# Model comparison\n",
    "lr_model_eval['Model'] = 'lr'\n",
    "rr_model_eval['Model'] = 'rr'\n",
    "dt_model_eval['Model'] = 'dt'\n",
    "rf_model_eval['Model'] = 'rf'\n",
    "xgb_model_eval['Model'] = 'xgb'\n",
    "\n",
    "model_comp = pd.concat([lr_model_eval, rr_model_eval, dt_model_eval, rf_model_eval, xgb_model_eval])\n",
    "model_comp = model_comp.pivot(index='Model', columns='Metric', values='Value')\n",
    "model_comp = model_comp.sort_values(by='Test Accuracy', ascending=False)\n",
    "model_comp"
   ]
  },
  {
   "cell_type": "code",
   "execution_count": null,
   "id": "02dc7271-ae68-499f-a1a8-df6b49ec87b9",
   "metadata": {},
   "outputs": [],
   "source": [
    "# Save the xgb model\n",
    "joblib.dump(xgb_model, 'data/xgb_model.pkl')"
   ]
  }
 ],
 "metadata": {
  "kernelspec": {
   "display_name": "python3",
   "language": "python",
   "name": "python3"
  }
 },
 "nbformat": 4,
 "nbformat_minor": 5
}
